{
 "cells": [
  {
   "cell_type": "markdown",
   "metadata": {},
   "source": [
    "# Installation\n",
    "\n",
    "\n",
    "## Installation in a command-line shell\n",
    "\n",
    "```bash\n",
    "pip install git+https://github.com/physchemstar/fmojinja\n",
    "```\n",
    "\n",
    "or\n",
    "\n",
    "```bash\n",
    "git clone https://github.com/physchemstar/fmojinja\n",
    "cd fmojinja\n",
    "pip install -e .\n",
    "```\n",
    "\n",
    "\n",
    "## Installation in a Jupyter Notebook"
   ]
  },
  {
   "cell_type": "code",
   "execution_count": 1,
   "metadata": {},
   "outputs": [
    {
     "name": "stdout",
     "output_type": "stream",
     "text": [
      "Collecting git+https://github.com/physchemstar/fmojinja\r\n",
      "  Cloning https://github.com/physchemstar/fmojinja to /private/var/folders/nw/2kgc3k852755dtjv0mfm05z00000gn/T/pip-req-build-_e85rzp5\r\n",
      "  Running command git clone -q https://github.com/physchemstar/fmojinja /private/var/folders/nw/2kgc3k852755dtjv0mfm05z00000gn/T/pip-req-build-_e85rzp5\r\n"
     ]
    },
    {
     "name": "stdout",
     "output_type": "stream",
     "text": [
      "Requirement already satisfied (use --upgrade to upgrade): fmojinja==0.0.20210524 from git+https://github.com/physchemstar/fmojinja in /Users/kawashima/github/fmojinja\r\n",
      "Requirement already satisfied: jinja2 in /opt/miniconda3/lib/python3.7/site-packages (from fmojinja==0.0.20210524) (2.11.2)\r\n"
     ]
    },
    {
     "name": "stdout",
     "output_type": "stream",
     "text": [
      "Requirement already satisfied: pandas in /opt/miniconda3/lib/python3.7/site-packages (from fmojinja==0.0.20210524) (1.2.4)\r\n",
      "Requirement already satisfied: numpy in /opt/miniconda3/lib/python3.7/site-packages (from fmojinja==0.0.20210524) (1.20.2)\r\n",
      "Requirement already satisfied: dask in /opt/miniconda3/lib/python3.7/site-packages (from fmojinja==0.0.20210524) (2021.5.0)\r\n",
      "Requirement already satisfied: MarkupSafe>=0.23 in /opt/miniconda3/lib/python3.7/site-packages (from jinja2->fmojinja==0.0.20210524) (1.1.1)\r\n",
      "Requirement already satisfied: python-dateutil>=2.7.3 in /opt/miniconda3/lib/python3.7/site-packages (from pandas->fmojinja==0.0.20210524) (2.8.1)\r\n",
      "Requirement already satisfied: pytz>=2017.3 in /opt/miniconda3/lib/python3.7/site-packages (from pandas->fmojinja==0.0.20210524) (2021.1)\r\n",
      "Requirement already satisfied: partd>=0.3.10 in /opt/miniconda3/lib/python3.7/site-packages (from dask->fmojinja==0.0.20210524) (1.2.0)\r\n",
      "Requirement already satisfied: cloudpickle>=1.1.1 in /opt/miniconda3/lib/python3.7/site-packages (from dask->fmojinja==0.0.20210524) (1.6.0)\r\n",
      "Requirement already satisfied: toolz>=0.8.2 in /opt/miniconda3/lib/python3.7/site-packages (from dask->fmojinja==0.0.20210524) (0.11.1)\r\n",
      "Requirement already satisfied: fsspec>=0.6.0 in /opt/miniconda3/lib/python3.7/site-packages (from dask->fmojinja==0.0.20210524) (2021.5.0)\r\n"
     ]
    },
    {
     "name": "stdout",
     "output_type": "stream",
     "text": [
      "Requirement already satisfied: pyyaml in /opt/miniconda3/lib/python3.7/site-packages (from dask->fmojinja==0.0.20210524) (5.3.1)\r\n",
      "Requirement already satisfied: six>=1.5 in /opt/miniconda3/lib/python3.7/site-packages (from python-dateutil>=2.7.3->pandas->fmojinja==0.0.20210524) (1.14.0)\r\n",
      "Requirement already satisfied: locket in /opt/miniconda3/lib/python3.7/site-packages (from partd>=0.3.10->dask->fmojinja==0.0.20210524) (0.2.1)\r\n",
      "Building wheels for collected packages: fmojinja\r\n"
     ]
    },
    {
     "name": "stdout",
     "output_type": "stream",
     "text": [
      "  Building wheel for fmojinja (setup.py) ... \u001b[?25l-"
     ]
    },
    {
     "name": "stdout",
     "output_type": "stream",
     "text": [
      "\b \b\\"
     ]
    },
    {
     "name": "stdout",
     "output_type": "stream",
     "text": [
      "\b \bdone\r\n",
      "\u001b[?25h  Created wheel for fmojinja: filename=fmojinja-0.0.20210524-py3-none-any.whl size=15407 sha256=0edf87030a162a99068066d9a5978244a66fbb718102185fbc09727b54369925\r\n",
      "  Stored in directory: /private/var/folders/nw/2kgc3k852755dtjv0mfm05z00000gn/T/pip-ephem-wheel-cache-9_v9_oa1/wheels/8c/8b/ea/e49388d3c73213d54b1988e8ab28af4f1af5b9e13b86de7c3e\r\n",
      "Successfully built fmojinja\r\n"
     ]
    }
   ],
   "source": [
    "!pip install git+https://github.com/physchemstar/fmojinja"
   ]
  },
  {
   "cell_type": "code",
   "execution_count": 2,
   "metadata": {},
   "outputs": [
    {
     "name": "stdout",
     "output_type": "stream",
     "text": [
      "Collecting git+https://github.com/physchemstar/fmojinja@develop\r\n",
      "  Cloning https://github.com/physchemstar/fmojinja (to revision develop) to /private/var/folders/nw/2kgc3k852755dtjv0mfm05z00000gn/T/pip-req-build-feqoqj4n\r\n",
      "  Running command git clone -q https://github.com/physchemstar/fmojinja /private/var/folders/nw/2kgc3k852755dtjv0mfm05z00000gn/T/pip-req-build-feqoqj4n\r\n"
     ]
    },
    {
     "name": "stdout",
     "output_type": "stream",
     "text": [
      "  Running command git checkout -b develop --track origin/develop\r\n",
      "  Switched to a new branch 'develop'\r\n",
      "  Branch 'develop' set up to track remote branch 'develop' from 'origin'.\r\n"
     ]
    },
    {
     "name": "stdout",
     "output_type": "stream",
     "text": [
      "Requirement already satisfied (use --upgrade to upgrade): fmojinja==0.0.20210524 from git+https://github.com/physchemstar/fmojinja@develop in /Users/kawashima/github/fmojinja\r\n",
      "Requirement already satisfied: jinja2 in /opt/miniconda3/lib/python3.7/site-packages (from fmojinja==0.0.20210524) (2.11.2)\r\n",
      "Requirement already satisfied: pandas in /opt/miniconda3/lib/python3.7/site-packages (from fmojinja==0.0.20210524) (1.2.4)\r\n",
      "Requirement already satisfied: numpy in /opt/miniconda3/lib/python3.7/site-packages (from fmojinja==0.0.20210524) (1.20.2)\r\n",
      "Requirement already satisfied: dask in /opt/miniconda3/lib/python3.7/site-packages (from fmojinja==0.0.20210524) (2021.5.0)\r\n",
      "Requirement already satisfied: MarkupSafe>=0.23 in /opt/miniconda3/lib/python3.7/site-packages (from jinja2->fmojinja==0.0.20210524) (1.1.1)\r\n",
      "Requirement already satisfied: python-dateutil>=2.7.3 in /opt/miniconda3/lib/python3.7/site-packages (from pandas->fmojinja==0.0.20210524) (2.8.1)\r\n"
     ]
    },
    {
     "name": "stdout",
     "output_type": "stream",
     "text": [
      "Requirement already satisfied: pytz>=2017.3 in /opt/miniconda3/lib/python3.7/site-packages (from pandas->fmojinja==0.0.20210524) (2021.1)\r\n",
      "Requirement already satisfied: fsspec>=0.6.0 in /opt/miniconda3/lib/python3.7/site-packages (from dask->fmojinja==0.0.20210524) (2021.5.0)\r\n"
     ]
    },
    {
     "name": "stdout",
     "output_type": "stream",
     "text": [
      "Requirement already satisfied: partd>=0.3.10 in /opt/miniconda3/lib/python3.7/site-packages (from dask->fmojinja==0.0.20210524) (1.2.0)\r\n",
      "Requirement already satisfied: pyyaml in /opt/miniconda3/lib/python3.7/site-packages (from dask->fmojinja==0.0.20210524) (5.3.1)\r\n",
      "Requirement already satisfied: toolz>=0.8.2 in /opt/miniconda3/lib/python3.7/site-packages (from dask->fmojinja==0.0.20210524) (0.11.1)\r\n",
      "Requirement already satisfied: cloudpickle>=1.1.1 in /opt/miniconda3/lib/python3.7/site-packages (from dask->fmojinja==0.0.20210524) (1.6.0)\r\n",
      "Requirement already satisfied: six>=1.5 in /opt/miniconda3/lib/python3.7/site-packages (from python-dateutil>=2.7.3->pandas->fmojinja==0.0.20210524) (1.14.0)\r\n",
      "Requirement already satisfied: locket in /opt/miniconda3/lib/python3.7/site-packages (from partd>=0.3.10->dask->fmojinja==0.0.20210524) (0.2.1)\r\n",
      "Building wheels for collected packages: fmojinja\r\n"
     ]
    },
    {
     "name": "stdout",
     "output_type": "stream",
     "text": [
      "  Building wheel for fmojinja (setup.py) ... \u001b[?25l-"
     ]
    },
    {
     "name": "stdout",
     "output_type": "stream",
     "text": [
      "\b \b\\"
     ]
    },
    {
     "name": "stdout",
     "output_type": "stream",
     "text": [
      "\b \bdone\r\n",
      "\u001b[?25h  Created wheel for fmojinja: filename=fmojinja-0.0.20210524-py3-none-any.whl size=15407 sha256=9260f6afc2c0033004ba9d92b65d1c836651bee4f72bd60b8c126cb0520db906\r\n",
      "  Stored in directory: /private/var/folders/nw/2kgc3k852755dtjv0mfm05z00000gn/T/pip-ephem-wheel-cache-v62rfew0/wheels/28/d2/35/b30fd07790df366fe987c4c329fab1ab31e9ab7c3de765d5ef\r\n",
      "Successfully built fmojinja\r\n"
     ]
    }
   ],
   "source": [
    "# If you would like to use develop branch features\n",
    "!pip install git+https://github.com/physchemstar/fmojinja@develop"
   ]
  }
 ],
 "metadata": {
  "language_info": {
   "codemirror_mode": {
    "name": "ipython",
    "version": 3
   },
   "file_extension": ".py",
   "mimetype": "text/x-python",
   "name": "python",
   "nbconvert_exporter": "python",
   "pygments_lexer": "ipython3",
   "version": "3.7.10"
  }
 },
 "nbformat": 4,
 "nbformat_minor": 2
}
